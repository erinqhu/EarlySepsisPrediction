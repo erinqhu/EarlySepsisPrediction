{
 "cells": [
  {
   "cell_type": "markdown",
   "metadata": {},
   "source": [
    "# Imputing Missing Values - Baseline Model\n",
    "Imputes all missing values with closest values"
   ]
  },
  {
   "cell_type": "code",
   "execution_count": 1,
   "metadata": {},
   "outputs": [],
   "source": [
    "# import necessary packages\n",
    "import pandas as pd\n",
    "import numpy as np\n",
    "import os"
   ]
  },
  {
   "cell_type": "code",
   "execution_count": 59,
   "metadata": {},
   "outputs": [],
   "source": [
    "# function to fill missing values\n",
    "def impute_missing_vals(df, attributes):\n",
    "\n",
    "    \"\"\"\n",
    "    function that imputes missing values.\n",
    "    \n",
    "    @param df: dataframe that has missing values to be\n",
    "               imputed\n",
    "           attributes: list of String, attributes of dataframe\n",
    "    @return df_clean: dataframe without missing values\n",
    "\n",
    "    \"\"\"\n",
    "    \n",
    "    \"\"\"\n",
    "    fill missing values by the closest values first\n",
    "    ffill to fill missing values in the tail\n",
    "    bfill to fill missing values in the head\n",
    "    \"\"\"\n",
    "    # copy df\n",
    "    df_clean = df.copy()\n",
    "    for att in attributes:\n",
    "        if df_clean[att].isnull().sum() == len(df_clean):\n",
    "            df_clean[att] = df_clean[att].fillna(0)\n",
    "        elif df_clean[att].isnull().sum() == len(df_clean) - 1:\n",
    "            df_clean[att] = df_clean[att].ffill().bfill()\n",
    "        else:\n",
    "            df_clean[att] = df_clean[att].interpolate(method='nearest', limit_direction='both')\n",
    "            df_clean[att] = df_clean[att].ffill().bfill()\n",
    "    \n",
    "    return df_clean"
   ]
  },
  {
   "cell_type": "code",
   "execution_count": 44,
   "metadata": {},
   "outputs": [],
   "source": [
    "# create a list of patient file names\n",
    "train_dir = '../data/training_setA/'\n",
    "patients = [p for p in sorted(os.listdir(train_dir))]"
   ]
  },
  {
   "cell_type": "code",
   "execution_count": null,
   "metadata": {
    "scrolled": true
   },
   "outputs": [],
   "source": [
    "# impute missing values and create clean dfs for all patients\n",
    "for p in patients:\n",
    "    \n",
    "    # read in patient data\n",
    "    df = pd.read_csv(train_dir + '/' + p, sep = \"|\")\n",
    "    attributes = df.columns[:-1]\n",
    "    \n",
    "    # impute missing values\n",
    "    df_clean = impute_missing_vals(df, attributes)\n",
    "    \n",
    "    # drop unit1 and unit2 with half missing values\n",
    "    # because these two features have few information\n",
    "    # drop EtCO2 with all missing values\n",
    "    df_clean = df_clean.drop(['Unit1', 'Unit2', 'EtCO2'], axis=1)\n",
    "    \n",
    "    # save new patient data\n",
    "    if p in train_path:\n",
    "    save_path = '../data/train_baseline/'\n",
    "    df_clean.to_csv(save_path + p, sep='|')        \n",
    "    \n",
    "    elif p in valid_path:\n",
    "    save_path = '../data/valid_baseline/'\n",
    "    df_clean.to_csv(save_path + p, sep='|')        \n",
    "    \n",
    "    else:\n",
    "        \n",
    "    save_path = '../data/test_baseline/'\n",
    "    df_clean.to_csv(save_path + p, sep='|')\n",
    "    \n",
    "    print(p)"
   ]
  }
 ],
 "metadata": {
  "kernelspec": {
   "display_name": "Python 3",
   "language": "python",
   "name": "python3"
  },
  "language_info": {
   "codemirror_mode": {
    "name": "ipython",
    "version": 3
   },
   "file_extension": ".py",
   "mimetype": "text/x-python",
   "name": "python",
   "nbconvert_exporter": "python",
   "pygments_lexer": "ipython3",
   "version": "3.7.3"
  }
 },
 "nbformat": 4,
 "nbformat_minor": 2
}
